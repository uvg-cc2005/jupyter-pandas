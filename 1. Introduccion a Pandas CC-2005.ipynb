{
 "cells": [
  {
   "cell_type": "markdown",
   "metadata": {
    "collapsed": true
   },
   "source": [
    "# Introducción a Pandas\n",
    "\n",
    "En esta sección del curso, aprenderemos a usar Pandas para el análisis de datos.  Se puede pensar en Pandas como una versión extremadamente poderosa de Excel, solo que con muchas más opciones.  En esta sección del curso deben recorrerse los cartapacios en este orden:\n",
    "\n",
    "* Introducción a Pandas\n",
    "* Series\n",
    "* DataFrames\n",
    "* Operaciones\n",
    "* Entrada y Salida (E/S) de Datos\n",
    "* Visualizadión de Datos\n",
    "\n",
    "Pandas usa como base el módulo NumPy que es para Algebra Lineal. Por este motivo, además de importar el módulo Pandas, será necesario importar el módulo NumPy "
   ]
  }
 ],
 "metadata": {
  "kernelspec": {
   "display_name": "Python 3",
   "language": "python",
   "name": "python3"
  },
  "language_info": {
   "codemirror_mode": {
    "name": "ipython",
    "version": 3
   },
   "file_extension": ".py",
   "mimetype": "text/x-python",
   "name": "python",
   "nbconvert_exporter": "python",
   "pygments_lexer": "ipython3",
   "version": "3.6.3"
  }
 },
 "nbformat": 4,
 "nbformat_minor": 1
}
